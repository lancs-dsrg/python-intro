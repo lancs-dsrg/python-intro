{
 "cells": [
  {
   "cell_type": "markdown",
   "metadata": {},
   "source": [
    "# Major Differences: Python vs. R\n",
    "\n",
    "In R, whitespace is ignored, for loops and if statements are determined by curly braced {..} and brackets (..). In python, everything is determined by indentation, so whitespace becomes more important! This makes it very neat :). All ifs and fors follow the same general pattern; the for/if, the statement, a colon :, then the main body is indented. Similarly function definitions use `def`, followed by the function and its args, then a colon; the main body is indented.\n",
    "\n",
    "## Examples:"
   ]
  },
  {
   "cell_type": "code",
   "execution_count": 30,
   "metadata": {},
   "outputs": [
    {
     "name": "stdout",
     "output_type": "stream",
     "text": [
      "3 is even: False\n",
      "\n",
      "4 is even: True\n",
      "\n",
      "Usage:\n",
      "is_even(x)\n",
      "\tx -- integer\n"
     ]
    }
   ],
   "source": [
    "# First declare a function is_even which decides if an integer is even or not\n",
    "def is_even(x):\n",
    "    # Check the input is an integer\n",
    "    if (not isinstance(x, (int,long))):\n",
    "        print \"Usage:\\nis_even(x)\\n\\tx -- integer\"\n",
    "        return None\n",
    "    # If remainder is 0 then it's even (% is remainder operator)\n",
    "    elif x % 2 == 0:\n",
    "        return True\n",
    "    else:\n",
    "        return False\n",
    "\n",
    "\n",
    "# Set variable and try out function\n",
    "x = 3\n",
    "# Print using python string formatting (\\n is newline, \\t is newtab)\n",
    "print \"{0} is even: {1}\\n\".format(x, is_even(x))\n",
    "x = 4\n",
    "print \"{0} is even: {1}\\n\".format(x, is_even(x))\n",
    "\n",
    "# Try some invalid input\n",
    "x = \"I'm even I promise!\"\n",
    "is_even(x)"
   ]
  },
  {
   "cell_type": "markdown",
   "metadata": {},
   "source": [
    "# Data Structures\n",
    "\n",
    "Python has all the standard data structures: Int, String, Float etc. It also has collections similar to the R vector and list. These are as follows:\n",
    "- **List**, this is like the R vector, but can be manipulated a lot easier.\n",
    "   - `[2,\"a\",4]` -- creates a list with elems `2`, `\"a\"` and `4`.\n",
    "   - `[].append(2)` -- adds the element `2` to a list.\n",
    "   - **power command** list comprehension: `[x^2 for x in range(10)]`. Creates a list of $x^2$ for $x = 0,\\dots, 9$.\n",
    "- **Dicts**, like an R list.\n",
    "   - `d = {\"a\": 1, \"b\": 2}` -- creates a dict with keys (a,b) and elems (1,2)\n",
    "   - `d[\"b\"]` access elem with key \"b\"\n",
    "\n",
    "There are lots that I've missed. See resources at the end for a full list. \n",
    "### Things to be aware of:\n",
    "- Lists are indexed from 0, setting `li = [1,2,3]` and then typing `print li[1]` will return `2`.\n",
    "- Unless a decimal point is involved, python will assume we are talking Ints. `4/3` returns 1 while `4.1/3` returns decimals.\n",
    "- The list is not as high performance as the numpy array because it's easy to edit. We talk about the numpy array in the next section.\n",
    "\n",
    "## Examples:"
   ]
  },
  {
   "cell_type": "code",
   "execution_count": 10,
   "metadata": {},
   "outputs": [
    {
     "name": "stdout",
     "output_type": "stream",
     "text": [
      "abcdefghijklmn\n",
      "{'a': 0, 'c': 2, 'b': 1, 'e': 4, 'd': 3, 'g': 6, 'f': 5, 'i': 8, 'h': 7, 'k': 10, 'j': 9, 'm': 12, 'l': 11, 'n': 13}\n",
      "[0, 1, 2, 3, 4, 5, 6, 7, 8, 9, 10, 11, 12, 13]\n",
      "[['A', 'B', 'C', 'D', 'E', 'F', 'G', 'H', 'I', 'J', 'K', 'L', 'M', 'N', 'O', 'P', 'Q', 'R', 'S', 'T', 'U', 'V', 'W', 'X', 'Y', 'Z'], ['a', 'b', 'd'], ['d', 'f', 'A']]\n"
     ]
    }
   ],
   "source": [
    "import string\n",
    "import re\n",
    "\n",
    "###### Dictionary comprehensions #####\n",
    "# Get string of letters a-n (note a string is treated as a list of characters).\n",
    "an = string.ascii_lowercase[:14]\n",
    "print an\n",
    "d = {char: num for (char,num) in zip(an,range(14))}\n",
    "print d\n",
    "\n",
    "##### Looping methods for lists ####\n",
    "an = string.ascii_lowercase[:14]\n",
    "nums = []\n",
    "# Loop over list elements AND index\n",
    "for i, char in enumerate(an):\n",
    "    nums.append(i)\n",
    "print nums\n",
    "\n",
    "#### Regex of chars using list comprehension ####\n",
    "chars = string.ascii_lowercase + string.ascii_uppercase\n",
    "regexes = ['[A-Z]','[abd]','[Adf]']\n",
    "print [re.findall(regex, chars) for regex in regexes]"
   ]
  },
  {
   "cell_type": "markdown",
   "metadata": {},
   "source": [
    "# Linear Algebra in Python -- numpy\n",
    "\n",
    "The main library for performing matrix calculations and numerical operations in python is [numpy](https://docs.scipy.org/doc/numpy/user/). To install it, go to a \n",
    "terminal and type `sudo pip install numpy`, you may need to install pip first using `sudo apt-get install pip`. Numpy is pretty fast, note it automatically uses multiple CPUs if possible, so be careful on computing clusters like STORM.\n",
    "\n",
    "Numpy is good for the following:\n",
    "- Excellent multi-dimensional arrays support\n",
    "- Linear algebra\n",
    "- Random sampling\n",
    "\n",
    "By default operations are performed element wise, e.g. multiplying to n x n matrices together using `*` will be performed element wise.\n",
    "\n",
    "## Examples:"
   ]
  },
  {
   "cell_type": "code",
   "execution_count": 17,
   "metadata": {},
   "outputs": [
    {
     "name": "stdout",
     "output_type": "stream",
     "text": [
      "Checking elem wise calcs\n",
      "[[[1. 1.]\n",
      "  [1. 1.]]\n",
      "\n",
      " [[1. 1.]\n",
      "  [1. 1.]]]\n",
      "\n",
      "Simulating from mixture of Normals:\n",
      "[0.14341671 0.02586593 0.16584061 0.32179434 0.34308242]\n",
      "[ 6.97799401 -2.97893925  2.00035731  3.89194591 -0.99323723]\n",
      "\n",
      "Simulating from 100 Normals:\n",
      "[-11.25470097 -11.76129401 -17.0368939  -11.86471199 -13.67285722\n",
      "  -4.63577472 -13.94681591 -15.1003006  -10.67049708 -13.51276385\n",
      "  -7.7084057   -5.34457634  -6.96064507   1.60806683  -5.67238383\n",
      "  -4.31070303  -4.16896513  -6.06959117  -2.10084512  -4.8943548\n",
      "  -8.40217951 -12.9919248  -11.66539523 -13.5178066   -9.15686799\n",
      " -13.2818723   -8.29786206  -7.20210401  -6.62538113 -16.51349696\n",
      "  11.90366846  14.25950447   8.31545678  18.16708616  12.89878907\n",
      "  19.01127382  12.31168403  22.10941967  13.45809078   2.09120536\n",
      "   4.3426393    5.20106453  10.99472925   5.48025145   6.81149751\n",
      "  14.63411549   3.03766789   6.62801665   5.19443151  11.47337726\n",
      "   0.16981478   1.90140177   1.72646207  -8.93625946   2.17581425\n",
      "  15.85427349   2.33037931   9.56573204  -3.23566223   3.56946361\n",
      "  11.20724306  14.67646484   6.76280554  -1.86334582  13.89810097\n",
      "  23.09481201   9.35736686  19.13348244  18.75715277  14.57204224\n",
      " -11.44626631 -13.25726984 -14.67428824 -15.82994604 -11.40353375\n",
      " -28.46422245 -11.55857232 -13.45835621 -15.14668344  -6.08946413\n",
      " -11.38510062 -11.45123697 -18.19792738 -28.31723985 -15.22512025\n",
      " -19.07197217  -9.34267341 -17.32408277 -14.66734523 -21.3317909\n",
      " -12.10247313 -11.9413196   -4.29968848 -14.4842934  -14.33992143\n",
      " -17.03709091  -9.66209658 -15.03906576  -0.6071328   -6.98204853]\n"
     ]
    }
   ],
   "source": [
    "# Import numpy and refer to it as np\n",
    "import numpy as np\n",
    "\n",
    "print \"Checking elem wise calcs\"\n",
    "\n",
    "# To get any numpy function (f), write np.f. Lets create an array of zeros using the np function `zeros`:\n",
    "x = np.zeros((5,5,5))   # 3d array of zeros of size 5x5x5\n",
    "\n",
    "# Check what I said about element wise calculations:\n",
    "print 5 * np.ones((2,2,2)) * .2 * np.ones((2,2,2))\n",
    "\n",
    "#------------------\n",
    "\n",
    "# Simulate from a mixture of Gaussians using random numbers\n",
    "\n",
    "print \"\\nSimulating from mixture of Normals:\"\n",
    "\n",
    "## 1 -- set seed and number of components\n",
    "np.random.seed(13)\n",
    "K = 5\n",
    "\n",
    "## 2 -- simulate weights from Dirichlet(1) distn\n",
    "w = np.random.dirichlet(np.ones(K))\n",
    "print w\n",
    "\n",
    "## 3 -- simulate means from N(0,10)\n",
    "mu = np.random.normal(loc = 0, scale = np.sqrt(10), size = K)\n",
    "print mu\n",
    "\n",
    "## 4 -- simulate 1000 data points, save to variable x\n",
    "n = 1000\n",
    "component_alloc = np.random.choice(K, p = w, size = n)\n",
    "x = np.random.normal(loc = mu[component_alloc], scale = 1)\n",
    "\n",
    "#--------------------------------------\n",
    "# Sample from 100 of Guassians using all possible combinations of mus and sds list\n",
    "\n",
    "print \"\\nSimulating from 100 Normals:\"\n",
    "mus = np.random.normal(scale = 10, size = 10)\n",
    "sds = np.random.gamma(4, size = 10)\n",
    "sample = np.array([np.random.normal(loc = mu,scale = sd) for mu in mus for sd in sds])\n",
    "print sample"
   ]
  },
  {
   "cell_type": "markdown",
   "metadata": {},
   "source": [
    "# More Stats (HOORAY) -- Scipy\n",
    "\n",
    "scipy.stats implements loads of useful stats functions, including CDFs and PDFs etc. Take a look! It also has a lot of other useful maths functions.\n",
    "\n",
    "## Examples:"
   ]
  },
  {
   "cell_type": "code",
   "execution_count": 38,
   "metadata": {},
   "outputs": [
    {
     "name": "stdout",
     "output_type": "stream",
     "text": [
      "0.26889048152739814\n"
     ]
    }
   ],
   "source": [
    "import scipy.stats\n",
    "import numpy as np\n",
    "\n",
    "#------------------------------\n",
    "# Calc log likelihood of data from MVt-distribution using misspecificed Normal.\n",
    "\n",
    "# Assume mvt has identity scale and 0 mean\n",
    "def rmvt(df = 3, n = 1000, d = 3):\n",
    "    # Use method of simulation using chisq followed by mvnorm (see Wikipedia page of MVT)\n",
    "    u = scipy.stats.chi2.rvs(df, size = n)\n",
    "    Sigma_list = [np.eye(3) * df / u_i for u_i in u]\n",
    "    return np.array([scipy.stats.multivariate_normal.rvs(cov = Sigma) for Sigma in Sigma_list])\n",
    "\n",
    "X = rmvt()\n",
    "ll = scipy.stats.multivariate_normal.logpdf(X, mean = np.zeros(3)).sum()\n",
    "\n",
    "# Calculate avg Kolmogorov-Smirnov distance of each component from Normality\n",
    "ksav = 0\n",
    "# Make sample slightly bigger so KStest works properly!\n",
    "X = rmvt(n = 10^4)\n",
    "for j in range(3):\n",
    "    x = X[:,j]\n",
    "    ksav += scipy.stats.kstest(x, scipy.stats.norm.cdf).statistic / 3\n",
    "print ksav"
   ]
  },
  {
   "cell_type": "markdown",
   "metadata": {},
   "source": [
    "# More Topics\n",
    "\n",
    "Here are some interesting topics/links about python I recommend you read and play with if you want more:\n",
    "- `R` Style data frames in python: https://pandas.pydata.org/\n",
    "- Lots of implementations of ML algorithms: http://scikit-learn.org/stable/\n",
    "- Useful tools for iterating over data: https://docs.python.org/2/library/itertools.html\n",
    "- The 'pythonic way' is, rather than try to catch bad input to functions, instead catch errors elegantly as they crop up. Python has really nice error handling and this makes it quite a beauty to write code: https://wiki.python.org/moin/HandlingExceptions (quick example underneath)\n",
    "- Elegant handling of time data: https://docs.python.org/2/library/datetime.html\n",
    "- Pickle/cPickle for binary file saves: https://docs.python.org/2/library/pickle.html\n",
    "- Generators can be used to create streaming tools for datasets: https://wiki.python.org/moin/Generators\n",
    "- Objects and classes: https://www.learnpython.org/en/Classes_and_Objects\n",
    "- Simple parallelisation: https://docs.python.org/2/library/multiprocessing.html\n",
    "- Web Parsing: https://www.crummy.com/software/BeautifulSoup/\n",
    "\n",
    "## Quick example of error handling:"
   ]
  },
  {
   "cell_type": "code",
   "execution_count": 43,
   "metadata": {},
   "outputs": [
    {
     "name": "stdout",
     "output_type": "stream",
     "text": [
      "Usage: x should be numeric\n"
     ]
    }
   ],
   "source": [
    "# Quick demo: Rather than trying to catch bad input, sort it in the error handler\n",
    "\n",
    "def sq(x):\n",
    "    try:\n",
    "        x^2\n",
    "    except TypeError:\n",
    "        print \"Usage: x should be numeric\"\n",
    "    \n",
    "sq('th')"
   ]
  }
 ],
 "metadata": {
  "kernelspec": {
   "display_name": "Python 2",
   "language": "python",
   "name": "python2"
  },
  "language_info": {
   "codemirror_mode": {
    "name": "ipython",
    "version": 2
   },
   "file_extension": ".py",
   "mimetype": "text/x-python",
   "name": "python",
   "nbconvert_exporter": "python",
   "pygments_lexer": "ipython2",
   "version": "2.7.12"
  }
 },
 "nbformat": 4,
 "nbformat_minor": 2
}
